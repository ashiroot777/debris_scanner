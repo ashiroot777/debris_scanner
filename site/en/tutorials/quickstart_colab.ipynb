{
  "cells": [
    {
      "cell_type": "markdown",
      "metadata": {
        "id": "Tce3stUlHN0L"
      },
      "source": [
        "##### Copyright 2024 Google LLC."
      ]
    },
    {
      "cell_type": "code",
      "execution_count": null,
      "metadata": {
        "cellView": "form",
        "id": "tuOe1ymfHZPu"
      },
      "outputs": [],
      "source": [
        "#@title Licensed under the Apache License, Version 2.0 (the \"License\");\n",
        "# you may not use this file except in compliance with the License.\n",
        "# You may obtain a copy of the License at\n",
        "#\n",
        "# https://www.apache.org/licenses/LICENSE-2.0\n",
        "#\n",
        "# Unless required by applicable law or agreed to in writing, software\n",
        "# distributed under the License is distributed on an \"AS IS\" BASIS,\n",
        "# WITHOUT WARRANTIES OR CONDITIONS OF ANY KIND, either express or implied.\n",
        "# See the License for the specific language governing permissions and\n",
        "# limitations under the License."
      ]
    },
    {
      "cell_type": "markdown",
      "metadata": {
        "id": "-QhPWE1lwZHH"
      },
      "source": [
        "# Gemini API Python quickstart"
      ]
    },
    {
      "cell_type": "markdown",
      "metadata": {
        "id": "fa7c47ae6451"
      },
      "source": [
        "<table class=\"tfo-notebook-buttons\" align=\"left\">\n",
        "  <td>\n",
        "    <a target=\"_blank\" href=\"https://ai.google.dev/tutorials/quickstart_colab\"><img src=\"https://ai.google.dev/static/site-assets/images/docs/notebook-site-button.png\" height=\"32\" width=\"32\" />View on Google AI</a>\n",
        "  </td>\n",
        "  <td>\n",
        "    <a target=\"_blank\" href=\"https://colab.research.google.com/github/google/generative-ai-docs/blob/main/site/en/tutorials/quickstart_colab.ipynb\"><img src=\"https://www.tensorflow.org/images/colab_logo_32px.png\" />Run in Google Colab</a>\n",
        "  </td>\n",
        "  <td>\n",
        "    <a target=\"_blank\" href=\"https://github.com/google/generative-ai-docs/blob/main/site/en/tutorials/quickstart_colab.ipynb\"><img src=\"https://www.tensorflow.org/images/GitHub-Mark-32px.png\" />View source on GitHub</a>\n",
        "  </td>\n",
        "</table>"
      ]
    },
    {
      "cell_type": "markdown",
      "metadata": {
        "id": "db29b8d4247e"
      },
      "source": [
        "This tutorial shows you how to get started with the Gemini API using the Python SDK."
      ]
    },
    {
      "cell_type": "markdown",
      "metadata": {
        "id": "NNNg43Ymw54e"
      },
      "source": [
        "## Prerequisites\n",
        "\n",
        "You can run this tutorial in Google Colab, which doesn't require additional environment configuration.\n",
        "\n",
        "Alternatively, to complete this quickstart locally, see the Python guidance in [Get started with the Gemini API](https://ai.google.dev/tutorials/quickstart)."
      ]
    },
    {
      "cell_type": "markdown",
      "metadata": {
        "id": "kHkHARdb1ZID"
      },
      "source": [
        "## Install the SDK\n",
        "\n",
        "The Python SDK for the Gemini API is contained in the [`google-generativeai`](https://pypi.org/project/google-generativeai/) package. Install the dependency using pip:"
      ]
    },
    {
      "cell_type": "code",
      "execution_count": null,
      "metadata": {
        "id": "J6Pd9SFJ1yVi",
        "outputId": "fd46d881-6748-403b-88df-560a47a5dbff"
      },
      "outputs": [
        {
          "name": "stdout",
          "output_type": "stream",
          "text": [
            "\u001b[?25l     \u001b[90m━━━━━━━━━━━━━━━━━━━━━━━━━━━━━━━━━━━━━━━━\u001b[0m \u001b[32m0.0/137.4 kB\u001b[0m \u001b[31m?\u001b[0m eta \u001b[36m-:--:--\u001b[0m\r\u001b[2K     \u001b[91m━━\u001b[0m\u001b[91m╸\u001b[0m\u001b[90m━━━━━━━━━━━━━━━━━━━━━━━━━━━━━━━━━━━━━\u001b[0m \u001b[32m10.2/137.4 kB\u001b[0m \u001b[31m?\u001b[0m eta \u001b[36m-:--:--\u001b[0m\r\u001b[2K     \u001b[91m━━━━━━━━━━━\u001b[0m\u001b[91m╸\u001b[0m\u001b[90m━━━━━━━━━━━━━━━━━━━━━━━━━━━━\u001b[0m \u001b[32m41.0/137.4 kB\u001b[0m \u001b[31m498.4 kB/s\u001b[0m eta \u001b[36m0:00:01\u001b[0m\r\u001b[2K     \u001b[91m━━━━━━━━━━━━━━━━━━━━━━━━━━━━━━━━━━━━━━\u001b[0m\u001b[91m╸\u001b[0m\u001b[90m━\u001b[0m \u001b[32m133.1/137.4 kB\u001b[0m \u001b[31m1.3 MB/s\u001b[0m eta \u001b[36m0:00:01\u001b[0m\r\u001b[2K     \u001b[90m━━━━━━━━━━━━━━━━━━━━━━━━━━━━━━━━━━━━━━━━\u001b[0m \u001b[32m137.4/137.4 kB\u001b[0m \u001b[31m1.1 MB/s\u001b[0m eta \u001b[36m0:00:00\u001b[0m\n",
            "\u001b[?25h"
          ]
        }
      ],
      "source": [
        "!pip install -q -U google-generativeai"
      ]
    },
    {
      "cell_type": "markdown",
      "metadata": {
        "id": "EeMCtmx9ykyx"
      },
      "source": [
        "## Set up your API key\n",
        "\n",
        "To use the Gemini API, you'll need an API key. If you don't already have one, create a key in Google AI Studio.\n",
        "\n",
        "<a class=\"button\" href=\"https://aistudio.google.com/app/apikey\" target=\"_blank\" rel=\"noopener noreferrer\">Get an API key</a>\n",
        "\n",
        "In Colab, add the key to the secrets manager under the \"🔑\" in the left panel. Give it the name `GOOGLE_API_KEY`. Then pass the key to the SDK:"
      ]
    },
    {
      "cell_type": "code",
      "execution_count": 9,
      "metadata": {
        "id": "HTiaTu6O1LRC"
      },
      "outputs": [],
      "source": [
        "# Import the Python SDK\n",
        "import google.generativeai as genai\n",
        "# Used to securely store your API key\n",
        "from google.colab import userdata\n",
        "\n",
        "from google.colab import userdata\n",
        "userdata.get('GOOGLE_API_KEY')\n",
        "genai.configure(api_key=GOOGLE_API_KEY)"
      ]
    },
    {
      "cell_type": "markdown",
      "metadata": {
        "id": "CZPYk29o2No0"
      },
      "source": [
        "## Initialize the Generative Model\n",
        "\n",
        "Before you can make any API calls, you need to initialize the Generative Model."
      ]
    },
    {
      "cell_type": "code",
      "execution_count": 13,
      "metadata": {
        "id": "s-JqXcDe2hZ_"
      },
      "outputs": [],
      "source": [
        "model = genai.GenerativeModel('gemini-1.5-flash-latest')"
      ]
    },
    {
      "cell_type": "markdown",
      "metadata": {
        "id": "nXxypzJH4MUl"
      },
      "source": [
        "## Generate text"
      ]
    },
    {
      "cell_type": "code",
      "execution_count": 16,
      "metadata": {
        "id": "j51mcrLD4Y2W",
        "colab": {
          "base_uri": "https://localhost:8080/",
          "height": 349
        },
        "outputId": "93e10052-2cfb-410f-909c-43f61c8eabdf"
      },
      "outputs": [
        {
          "output_type": "stream",
          "name": "stdout",
          "text": [
            "Elara wasn't known for her luck.  Orphaned at a young age, she scraped by, working odd jobs in the bustling port city of Porthaven.  Her only companion was a worn, leather backpack, a hand-me-down from her grandmother.  One particularly miserable rainy day, while scavenging for discarded scraps, Elara stumbled upon a hidden alleyway.  Inside, nestled amongst rotting crates, was a small, intricately carved wooden box.  Curiosity overcoming caution, she opened it.  Inside lay a single, shimmering emerald button.\n",
            "\n",
            "That night, exhausted and hungry, Elara absently sewed the button onto her backpack.  The moment her needle pierced the leather, the backpack thrummed with a low hum.  A warm, golden light spilled from its seams.  When Elara reached inside, she found it filled with a perfectly ripe apple, a loaf of warm bread, and a small silver coin.\n",
            "\n",
            "Elara gasped.  It was magic.\n",
            "\n",
            "Wordlessly, she ate the food.  The next morning, she discovered the backpack's magic was far more extensive.  She needed new boots?  A sturdy pair appeared.  She needed a place to sleep?  A small, comfortable hammock unfurled itself from a hidden compartment.  It seemed to anticipate her needs, providing her with everything she required, from sturdy rope for climbing to tools for fixing broken carts.\n",
            "\n",
            "News of Elara's unbelievable luck spread through Porthaven. Some whispered of a mischievous sprite, others of a benevolent djinn. Elara herself wasn’t sure, only that the backpack was a lifeline, transforming her life from one of constant struggle to comfortable solvency.\n",
            "\n",
            "But the backpack had limits. It wouldn't provide things that required skill or effort from Elara. It wouldn't magically make her a shipwright, or a skilled cartographer.  It supplemented her efforts, never replacing them.\n",
            "\n",
            "One day, a terrible storm ravaged Porthaven.  The docks were flooded, and many were stranded without food or shelter. Elara, remembering her own past struggles, used her newfound resources to help.  The backpack, sensing her selfless intent, responded in kind.  It provided blankets, tools, and even magically purified water.\n",
            "\n",
            "As she tirelessly worked alongside others, Elara realized the backpack wasn't just about material comfort. It was a catalyst, amplifying her compassion and determination.  It wasn't a shortcut to success, but a tool to amplify her efforts towards a greater good.\n",
            "\n",
            "Years later, Elara, no longer a struggling orphan but a respected member of Porthaven’s community, sat by the sea, the magic backpack resting beside her.  The emerald button still shimmered, a constant reminder that true wealth wasn't measured in gold, but in the kindness and generosity one shared with the world.  The backpack had given her more than just material possessions; it had given her purpose. And that, she knew, was a magic far more valuable than any treasure.\n",
            "\n"
          ]
        }
      ],
      "source": [
        "response = model.generate_content(\"Write a story about a magic backpack.\")\n",
        "print(response.text)"
      ]
    },
    {
      "cell_type": "code",
      "metadata": {
        "colab": {
          "base_uri": "https://localhost:8080/",
          "height": 746
        },
        "id": "1a28d356",
        "outputId": "4558b028-7488-470c-ce6f-745c14bd2b78"
      },
      "source": [
        "for m in genai.list_models():\n",
        "  if 'generateContent' in m.supported_generation_methods:\n",
        "    print(m.name)"
      ],
      "execution_count": 12,
      "outputs": [
        {
          "output_type": "stream",
          "name": "stdout",
          "text": [
            "models/gemini-1.5-pro-latest\n",
            "models/gemini-1.5-pro-002\n",
            "models/gemini-1.5-pro\n",
            "models/gemini-1.5-flash-latest\n",
            "models/gemini-1.5-flash\n",
            "models/gemini-1.5-flash-002\n",
            "models/gemini-1.5-flash-8b\n",
            "models/gemini-1.5-flash-8b-001\n",
            "models/gemini-1.5-flash-8b-latest\n",
            "models/gemini-2.5-pro-preview-03-25\n",
            "models/gemini-2.5-flash-preview-05-20\n",
            "models/gemini-2.5-flash\n",
            "models/gemini-2.5-flash-lite-preview-06-17\n",
            "models/gemini-2.5-pro-preview-05-06\n",
            "models/gemini-2.5-pro-preview-06-05\n",
            "models/gemini-2.5-pro\n",
            "models/gemini-2.0-flash-exp\n",
            "models/gemini-2.0-flash\n",
            "models/gemini-2.0-flash-001\n",
            "models/gemini-2.0-flash-exp-image-generation\n",
            "models/gemini-2.0-flash-lite-001\n",
            "models/gemini-2.0-flash-lite\n",
            "models/gemini-2.0-flash-preview-image-generation\n",
            "models/gemini-2.0-flash-lite-preview-02-05\n",
            "models/gemini-2.0-flash-lite-preview\n",
            "models/gemini-2.0-pro-exp\n",
            "models/gemini-2.0-pro-exp-02-05\n",
            "models/gemini-exp-1206\n",
            "models/gemini-2.0-flash-thinking-exp-01-21\n",
            "models/gemini-2.0-flash-thinking-exp\n",
            "models/gemini-2.0-flash-thinking-exp-1219\n",
            "models/gemini-2.5-flash-preview-tts\n",
            "models/gemini-2.5-pro-preview-tts\n",
            "models/learnlm-2.0-flash-experimental\n",
            "models/gemma-3-1b-it\n",
            "models/gemma-3-4b-it\n",
            "models/gemma-3-12b-it\n",
            "models/gemma-3-27b-it\n",
            "models/gemma-3n-e4b-it\n",
            "models/gemma-3n-e2b-it\n",
            "models/gemini-2.5-flash-lite\n",
            "models/gemini-2.5-flash-image-preview\n"
          ]
        }
      ]
    },
    {
      "cell_type": "markdown",
      "source": [
        "# New Section"
      ],
      "metadata": {
        "id": "eYORxHQRBssD"
      }
    },
    {
      "cell_type": "code",
      "source": [
        "import google.generativeai as genai\n",
        "# Used to securely store your API key\n",
        "from google.colab import userdata\n",
        "\n",
        "GOOGLE_API_KEY=userdata.get('GOOGLE_API_KEY')\n",
        "genai.configure(api_key=GOOGLE_API_KEY)"
      ],
      "metadata": {
        "id": "amfwgiL8CQMq"
      },
      "execution_count": 5,
      "outputs": []
    },
    {
      "cell_type": "code",
      "source": [
        "response = model.generate_content(\"Write a story about a magic backpack.\")\n",
        "print(response.text)"
      ],
      "metadata": {
        "colab": {
          "base_uri": "https://localhost:8080/",
          "height": 297
        },
        "id": "xKBW-moWBtPr",
        "outputId": "2a4215ad-fbf5-4b42-9612-12670eb7777b"
      },
      "execution_count": 15,
      "outputs": [
        {
          "output_type": "stream",
          "name": "stderr",
          "text": [
            "ERROR:tornado.access:503 POST /v1beta/models/gemini-1.5-flash-latest:generateContent?%24alt=json%3Benum-encoding%3Dint (127.0.0.1) 811.78ms\n"
          ]
        },
        {
          "output_type": "stream",
          "name": "stdout",
          "text": [
            "Elara wasn’t your average twelve-year-old. While her classmates obsessed over pop stars and social media, Elara dreamt of faraway lands and fantastical creatures.  This yearning manifested itself, rather inconveniently, in her perpetually overflowing backpack.  It was a hand-me-down from her eccentric grandmother, a patchwork thing stitched from what looked like a thousand different fabrics, each shimmering with an almost imperceptible luminescence.\n",
            "\n",
            "One rainy Tuesday, while trudging home through a particularly soggy park, Elara’s backpack shifted unexpectedly.  A small, iridescent frog, the size of her thumb, hopped out, blinking at her with intelligent golden eyes.  Elara shrieked, dropping her books, but the frog simply sat on the muddy path, surveying her with an air of calm superiority.\n",
            "\n",
            "That night, as Elara nervously tried to ignore the frog – now happily ensconced in her already chaotic backpack – she noticed something else odd.  A perfectly ripe, juicy mango materialized on her desk. Then, a small, intricately carved wooden flute.  Then, a book bound in shimmering peacock feathers, titled, in elegant script, \"A Guide to the Whispering Woods.\"\n",
            "\n",
            "It slowly dawned on Elara: the backpack wasn't just a bag; it was a magical portal.  Each item that appeared was a reflection of her deepest desires, seemingly pulled from the very fabric of her imagination.  The mango represented her craving for summer fruits; the flute, her unspoken longing to learn music; the book, her passion for adventure.\n",
            "\n",
            "Elara’s life changed. The backpack, which she secretly named \"Starlight,\" filled her days with wonders.  One day, it would produce a miniature telescope revealing constellations unseen by the naked eye; another, a collection of rare seashells whispered secrets of ancient oceans.  It even delivered, on occasion, a delicious plate of Grandma Rose's legendary blueberry pie – a comforting link to her deceased grandmother.\n",
            "\n",
            "But Starlight wasn't without its quirks.  Sometimes, it produced things Elara didn't want – a grumpy gnome who insisted on knitting tiny sweaters for her pet hamster, or a flock of mischievous pixies who turned her homework into origami swans.  Elara learned to navigate these unexpected gifts, finding humour and ingenuity in the chaos.\n",
            "\n",
            "One day, Starlight produced a map, intricately drawn and seemingly ancient.  It led to the Whispering Woods, the very woods mentioned in the peacock feather book.  Armed with her knowledge, her courage, and her magical backpack, Elara embarked on her greatest adventure yet.  The Whispering Woods held secrets both wondrous and dangerous, but with Starlight by her side, Elara knew she was ready to face anything – even a grumpy gnome with a penchant for tiny sweaters.  For Elara had learned that the greatest magic wasn't just about what appeared from the backpack, but the courage and wonder it instilled in her heart.\n",
            "\n"
          ]
        }
      ]
    },
    {
      "cell_type": "markdown",
      "metadata": {
        "id": "zUUAQS9u4biH"
      },
      "source": [
        "## What's next\n",
        "\n",
        "To learn more about working with the Gemini API, see the [Python tutorial](https://ai.google.dev/tutorials/python_quickstart).\n",
        "\n",
        "If you're new to generative AI models, you might want to look at the\n",
        "[concepts guide](https://ai.google.dev/docs/concepts) and the\n",
        "[Gemini API overview](https://ai.google.dev/docs/gemini_api_overview)."
      ]
    },
    {
      "cell_type": "code",
      "source": [
        "response = model.generate_content(\"\")\n",
        "print(response.text)"
      ],
      "metadata": {
        "id": "djhQw-rpDg0n",
        "outputId": "40ca8948-21a6-4c31-f225-733226fb61b3",
        "colab": {
          "base_uri": "https://localhost:8080/",
          "height": 245
        }
      },
      "execution_count": 18,
      "outputs": [
        {
          "output_type": "stream",
          "name": "stdout",
          "text": [
            "PES University's Ring Road campus, officially known as the **PES University (R.R. Campus)**, is a relatively newer addition compared to its older, main campus.  While it doesn't house all the departments, it's a significant part of the university and focuses on specific areas of study.  Information about specific programs offered can vary, so it's best to check the official PES University website for the most up-to-date details.  However, generally speaking:\n",
            "\n",
            "* **Location:**  As the name suggests, it's located on the Ring Road in Bangalore, offering convenient access to various parts of the city.  The exact address and proximity to other landmarks would need to be verified on the university's website.\n",
            "\n",
            "* **Facilities:**  While perhaps not as extensive as the main campus, the Ring Road campus likely provides essential facilities for students, including classrooms, labs (depending on the programs offered), a library (possibly a branch or smaller collection), and common areas.  Specific amenities should be confirmed through the university.\n",
            "\n",
            "* **Programs:** The focus is usually on specific engineering branches or potentially other related fields.  It's less likely to have a broad range of programs compared to the main campus.  Again, you'll need to consult the university's website or admissions department for a precise list of courses.\n",
            "\n",
            "* **Size and Atmosphere:**  Expect a smaller, potentially more intimate campus environment compared to the main campus.  This might appeal to some students who prefer a less crowded setting.\n",
            "\n",
            "In summary, the PES University Ring Road campus is a supplementary campus offering selected programs, typically within engineering or related disciplines. Its exact features and offerings require verification from official university sources.  Don't rely solely on generalized descriptions; always consult the university's website for the most accurate and current information.\n",
            "\n"
          ]
        }
      ]
    },
    {
      "cell_type": "markdown",
      "source": [
        "# New Section"
      ],
      "metadata": {
        "id": "c_6IGz9dDgS5"
      }
    }
  ],
  "metadata": {
    "colab": {
      "name": "quickstart_colab.ipynb",
      "toc_visible": true,
      "provenance": []
    },
    "kernelspec": {
      "display_name": "Python 3",
      "name": "python3"
    }
  },
  "nbformat": 4,
  "nbformat_minor": 0
}